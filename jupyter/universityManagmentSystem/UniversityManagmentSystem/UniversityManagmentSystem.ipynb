{
 "cells": [
  {
   "cell_type": "code",
   "execution_count": 40,
   "id": "0d07952c-378b-4c45-9d64-144a32c0b209",
   "metadata": {},
   "outputs": [],
   "source": [
    "import sqlite3"
   ]
  },
  {
   "cell_type": "code",
   "execution_count": 41,
   "id": "074247ad-e7f4-45fb-99b7-af31ea684323",
   "metadata": {},
   "outputs": [],
   "source": [
    " conn = sqlite3.connect(\":memory:\")  # in-memory DB (use \"mydb.db\" for file)\n",
    " cursor = conn.cursor()"
   ]
  },
  {
   "cell_type": "code",
   "execution_count": 42,
   "id": "5f8bdb0d-0a8a-4b28-adb2-9c30eb7dcd66",
   "metadata": {},
   "outputs": [],
   "source": [
    "cursor.execute(\"\"\"\n",
    " CREATE TABLE Departments (\n",
    "    dept_id INTEGER PRIMARY KEY AUTOINCREMENT,\n",
    "    dept_name TEXT NOT NULL,\n",
    "    hod_name TEXT\n",
    "    )\n",
    "    \"\"\")\n",
    "cursor.execute(\"\"\"\n",
    "CREATE TABLE Students (\n",
    "    student_id INTEGER PRIMARY KEY AUTOINCREMENT,\n",
    "    name TEXT NOT NULL,\n",
    "    class TEXT NOT NULL,\n",
    "    dept_id INT,\n",
    "    FOREIGN KEY (dept_id) REFERENCES Departments(dept_id)\n",
    "    )\n",
    "    \"\"\")\n",
    "cursor.execute(\"\"\"\n",
    "CREATE TABLE Subjects (\n",
    "    subject_id INTEGER PRIMARY KEY AUTOINCREMENT,\n",
    "    subject_name TEXT NOT NULL,\n",
    "    dept_id INT,\n",
    "    FOREIGN KEY (dept_id) REFERENCES Departments(dept_id)\n",
    "    )\n",
    "    \"\"\")\n",
    "cursor.execute(\"\"\"\n",
    "CREATE TABLE Marks (\n",
    "    mark_id INTEGER PRIMARY KEY AUTOINCREMENT,\n",
    "    student_id INTEGER,\n",
    "    subject_id INTEGER,\n",
    "    marks INT, \n",
    "    FOREIGN KEY (student_id) REFERENCES Students(student_id),\n",
    "    FOREIGN KEY (subject_id) REFERENCES Subjects(subject_id)\n",
    "    )\n",
    "    \"\"\")\n",
    "departments = [\n",
    "    (\"Math\", \"HOD 1\"),\n",
    "    (\"Science\", \"HOD 2\")\n",
    "]\n",
    "cursor.executemany(\"INSERT INTO Departments (dept_name, hod_name) VALUES (?, ?)\", departments)\n",
    "\n",
    "students = [\n",
    "    (\"Joe\", \"Class 1\", 1),\n",
    "    (\"Bob\", \"Class 1\", 1),\n",
    "    (\"Tom\", \"Class 2\", 2),\n",
    "    (\"Amy\", \"Class 2\", 2),\n",
    "    (\"Sue\", \"Class 1\", 1)\n",
    "]\n",
    "cursor.executemany(\"INSERT INTO Students (name, class, dept_id) VALUES (?, ?, ?)\", students)\n",
    "\n",
    "subjects = [\n",
    "    (\"Algebra\", 1),\n",
    "    (\"Geometry\", 1),\n",
    "    (\"Biology\", 2),\n",
    "    (\"Chemistry\", 2)\n",
    "]\n",
    "cursor.executemany(\"INSERT INTO Subjects (subject_name, dept_id) VALUES (?, ?)\", subjects)\n",
    "\n",
    "# Each student gets marks in all 4 subjects\n",
    "marks_data = [\n",
    "    (1, 1, 70), (1, 2, 75), (1, 3, 80), (1, 4, 85),\n",
    "    (2, 1, 60), (2, 2, 65), (2, 3, 70), (2, 4, 75),\n",
    "    (3, 1, 80), (3, 2, 85), (3, 3, 90), (3, 4, 95),\n",
    "    (4, 1, 55), (4, 2, 60), (4, 3, 65), (4, 4, 70),\n",
    "    (5, 1, 90), (5, 2, 85), (5, 3, 80), (5, 4, 75)\n",
    "]\n",
    "cursor.executemany(\"INSERT INTO Marks (student_id, subject_id, marks) VALUES (?, ?, ?)\", marks_data)\n",
    "\n",
    "conn.commit()"
   ]
  },
  {
   "cell_type": "code",
   "execution_count": 60,
   "id": "ede37b98-1b2e-4f68-8716-2e57d1e572e4",
   "metadata": {},
   "outputs": [],
   "source": [
    "def add_student(conn, name, class_, dept_id):\n",
    "    conn.execute(\n",
    "        \"\"\"\n",
    "        INSERT INTO Students (name, class, dept_id)\n",
    "        VALUES (?, ?, ?)\n",
    "        \"\"\",\n",
    "        (name, class_, dept_id)\n",
    "    )\n",
    "    conn.commit()\n",
    "\n",
    "def add_subject(conn, subject_name, dept_id):\n",
    "    conn.execute(\n",
    "        \"\"\"\n",
    "        INSERT INTO Subjects (subject_name, dept_id)\n",
    "        VALUES (?, ?)\n",
    "        \"\"\",\n",
    "        (subject_name, dept_id)\n",
    "    )\n",
    "    conn.commit()\n",
    "\n",
    "def add_marks(conn, student_id, subject_id, marks):\n",
    "    conn.execute(\n",
    "        \"\"\"\n",
    "        INSERT INTO Marks (student_id, subject_id, marks)\n",
    "        VALUES (?, ?, ?)\n",
    "        \"\"\",\n",
    "        (student_id, subject_id, marks)\n",
    "    )\n",
    "    conn.commit()\n",
    "\n",
    "def show_students(conn):\n",
    "    return conn.execute(\n",
    "        \"\"\"\n",
    "        SELECT Students.student_id, Students.name, Students.class, Departments.dept_name\n",
    "        FROM Students\n",
    "        JOIN Departments ON Students.dept_id = Departments.dept_id\n",
    "        \"\"\"\n",
    "    ).fetchall()\n",
    "\n",
    "def show_subjects(conn):\n",
    "    return conn.execute(\n",
    "        \"\"\"\n",
    "        SELECT Subjects.subject_id, Subjects.subject_name, Departments.dept_name\n",
    "        FROM Subjects\n",
    "        JOIN Departments ON Subjects.dept_id = Departments.dept_id\n",
    "        \"\"\"\n",
    "    ).fetchall()\n",
    "\n",
    "def show_marks(conn):\n",
    "    return conn.execute(\"\"\"\n",
    "        SELECT Marks.mark_id, Students.name, Subjects.subject_name, Marks.marks \n",
    "        FROM Marks \n",
    "        JOIN Students ON Marks.student_id = Students.student_id \n",
    "        JOIN Subjects ON Marks.subject_id = Subjects.subject_id\n",
    "    \"\"\").fetchall()\n",
    "\n",
    "def student_report(conn, student_id):\n",
    "    return conn.execute(\"\"\"\n",
    "        SELECT Subjects.subject_name, Marks.marks \n",
    "        FROM Marks \n",
    "        JOIN Subjects ON Marks.subject_id = Subjects.subject_id \n",
    "        WHERE Marks.student_id = ?\n",
    "    \"\"\", (student_id,)).fetchall()\n",
    "\n",
    "def toppers(conn):\n",
    "    subject_toppers = conn.execute(\"\"\"\n",
    "        SELECT Subjects.subject_name, Students.name, MAX(Marks.marks) \n",
    "        FROM Marks \n",
    "        JOIN Students ON Marks.student_id = Students.student_id \n",
    "        JOIN Subjects ON Marks.subject_id = Subjects.subject_id \n",
    "        GROUP BY Marks.subject_id\n",
    "    \"\"\").fetchall()\n",
    "\n",
    "    overall_topper = conn.execute(\"\"\"\n",
    "        SELECT Students.name, SUM(Marks.marks) \n",
    "        FROM Marks \n",
    "        JOIN Students ON Marks.student_id = Students.student_id \n",
    "        GROUP BY Marks.student_id \n",
    "        ORDER BY SUM(Marks.marks) DESC \n",
    "        LIMIT 1\n",
    "    \"\"\").fetchone()\n",
    "\n",
    "    return subject_toppers, overall_topper\n",
    "\n",
    "def department_summary(conn):\n",
    "    return conn.execute(\"\"\"\n",
    "        SELECT Departments.dept_name, AVG(Marks.marks) \n",
    "        FROM Marks \n",
    "        JOIN Students ON Marks.student_id = Students.student_id \n",
    "        JOIN Departments ON Students.dept_id = Departments.dept_id \n",
    "        GROUP BY Departments.dept_id\n",
    "    \"\"\").fetchall()\n",
    "\n",
    "def unique_subjects(conn):\n",
    "    rows = conn.execute(\"\"\"\n",
    "        SELECT DISTINCT subject_name \n",
    "        FROM Subjects\n",
    "    \"\"\").fetchall()\n",
    "    return {r[0] for r in rows}\n"
   ]
  },
  {
   "cell_type": "code",
   "execution_count": 58,
   "id": "78dd076d-6c4c-42b7-85ba-561968713a61",
   "metadata": {},
   "outputs": [
    {
     "data": {
      "text/plain": [
       "[(1, 'Algebra', 'Math'),\n",
       " (2, 'Geometry', 'Math'),\n",
       " (3, 'Biology', 'Science'),\n",
       " (4, 'Chemistry', 'Science')]"
      ]
     },
     "execution_count": 58,
     "metadata": {},
     "output_type": "execute_result"
    }
   ],
   "source": [
    "show_subjects(conn)"
   ]
  },
  {
   "cell_type": "code",
   "execution_count": 59,
   "id": "2b558594-b620-43bc-835e-255af40bcbc3",
   "metadata": {},
   "outputs": [
    {
     "data": {
      "text/plain": [
       "[(1, 'Joe', 'Class 1', 'Math'),\n",
       " (2, 'Bob', 'Class 1', 'Math'),\n",
       " (3, 'Tom', 'Class 2', 'Science'),\n",
       " (4, 'Amy', 'Class 2', 'Science'),\n",
       " (5, 'Sue', 'Class 1', 'Math')]"
      ]
     },
     "execution_count": 59,
     "metadata": {},
     "output_type": "execute_result"
    }
   ],
   "source": [
    "show_students(conn)"
   ]
  },
  {
   "cell_type": "code",
   "execution_count": 61,
   "id": "037f1a82-52bb-4dac-90ea-07a2ef59994d",
   "metadata": {},
   "outputs": [],
   "source": [
    "add_student(conn, \"Joe\", \"Class 1\", 1)"
   ]
  },
  {
   "cell_type": "code",
   "execution_count": 62,
   "id": "1830c486-afc5-4435-8a40-076898ac07f1",
   "metadata": {},
   "outputs": [
    {
     "data": {
      "text/plain": [
       "[(1, 'Joe', 'Class 1', 'Math'),\n",
       " (2, 'Bob', 'Class 1', 'Math'),\n",
       " (3, 'Tom', 'Class 2', 'Science'),\n",
       " (4, 'Amy', 'Class 2', 'Science'),\n",
       " (5, 'Sue', 'Class 1', 'Math'),\n",
       " (6, 'Joe', 'Class 1', 'Math')]"
      ]
     },
     "execution_count": 62,
     "metadata": {},
     "output_type": "execute_result"
    }
   ],
   "source": [
    "show_students(conn)"
   ]
  }
 ],
 "metadata": {
  "kernelspec": {
   "display_name": "Python 3 (ipykernel)",
   "language": "python",
   "name": "python3"
  },
  "language_info": {
   "codemirror_mode": {
    "name": "ipython",
    "version": 3
   },
   "file_extension": ".py",
   "mimetype": "text/x-python",
   "name": "python",
   "nbconvert_exporter": "python",
   "pygments_lexer": "ipython3",
   "version": "3.13.7"
  }
 },
 "nbformat": 4,
 "nbformat_minor": 5
}
