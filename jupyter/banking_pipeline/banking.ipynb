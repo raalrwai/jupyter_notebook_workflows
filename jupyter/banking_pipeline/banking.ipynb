{
 "cells": [
  {
   "cell_type": "code",
   "execution_count": null,
   "id": "ae71a9bd",
   "metadata": {},
   "outputs": [],
   "source": [
    "import pandas as pd\n",
    "from sklearn.model_selection import train_test_split\n",
    "from sklearn.ensemble import RandomForestClassifier\n",
    "from sklearn.linear_model import LogisticRegression\n",
    "from sklearn.tree import DecisionTreeClassifier\n",
    "from sklearn.svm import SVC\n",
    "from sklearn.metrics import accuracy_score, classification_report, confusion_matrix\n",
    "import "
   ]
  },
  {
   "cell_type": "code",
   "execution_count": 2,
   "id": "bc311776",
   "metadata": {},
   "outputs": [],
   "source": [
    "df_train = pd.read_csv('new_train.csv')\n",
    "df_test = pd.read_csv('new_test.csv')"
   ]
  },
  {
   "cell_type": "code",
   "execution_count": 3,
   "id": "5959d9a9",
   "metadata": {},
   "outputs": [
    {
     "name": "stdout",
     "output_type": "stream",
     "text": [
      "   age           job   marital          education  default housing loan  \\\n",
      "0   49   blue-collar   married           basic.9y  unknown      no   no   \n",
      "1   37  entrepreneur   married  university.degree       no      no   no   \n",
      "2   78       retired   married           basic.4y       no      no   no   \n",
      "3   36        admin.   married  university.degree       no     yes   no   \n",
      "4   59       retired  divorced  university.degree       no      no   no   \n",
      "\n",
      "     contact month day_of_week  duration  campaign  pdays  previous  \\\n",
      "0   cellular   nov         wed       227         4    999         0   \n",
      "1  telephone   nov         wed       202         2    999         1   \n",
      "2   cellular   jul         mon      1148         1    999         0   \n",
      "3  telephone   may         mon       120         2    999         0   \n",
      "4   cellular   jun         tue       368         2    999         0   \n",
      "\n",
      "      poutcome    y  \n",
      "0  nonexistent   no  \n",
      "1      failure   no  \n",
      "2  nonexistent  yes  \n",
      "3  nonexistent   no  \n",
      "4  nonexistent   no  \n"
     ]
    }
   ],
   "source": [
    "print(df_train.head())"
   ]
  },
  {
   "cell_type": "code",
   "execution_count": 4,
   "id": "32f3bcdf",
   "metadata": {},
   "outputs": [
    {
     "name": "stdout",
     "output_type": "stream",
     "text": [
      "<class 'pandas.core.frame.DataFrame'>\n",
      "RangeIndex: 32950 entries, 0 to 32949\n",
      "Data columns (total 16 columns):\n",
      " #   Column       Non-Null Count  Dtype \n",
      "---  ------       --------------  ----- \n",
      " 0   age          32950 non-null  int64 \n",
      " 1   job          32950 non-null  object\n",
      " 2   marital      32950 non-null  object\n",
      " 3   education    32950 non-null  object\n",
      " 4   default      32950 non-null  object\n",
      " 5   housing      32950 non-null  object\n",
      " 6   loan         32950 non-null  object\n",
      " 7   contact      32950 non-null  object\n",
      " 8   month        32950 non-null  object\n",
      " 9   day_of_week  32950 non-null  object\n",
      " 10  duration     32950 non-null  int64 \n",
      " 11  campaign     32950 non-null  int64 \n",
      " 12  pdays        32950 non-null  int64 \n",
      " 13  previous     32950 non-null  int64 \n",
      " 14  poutcome     32950 non-null  object\n",
      " 15  y            32950 non-null  object\n",
      "dtypes: int64(5), object(11)\n",
      "memory usage: 4.0+ MB\n",
      "None\n"
     ]
    }
   ],
   "source": [
    "print(df_train.info())"
   ]
  },
  {
   "cell_type": "code",
   "execution_count": 14,
   "id": "6d1048e3",
   "metadata": {},
   "outputs": [
    {
     "name": "stdout",
     "output_type": "stream",
     "text": [
      "                age      duration      campaign         pdays      previous\n",
      "count  32950.000000  32950.000000  32950.000000  32950.000000  32950.000000\n",
      "mean      40.014112    258.127466      2.560607    962.052413      0.174719\n",
      "std       10.403636    258.975917      2.752326    187.951096      0.499025\n",
      "min       17.000000      0.000000      1.000000      0.000000      0.000000\n",
      "25%       32.000000    103.000000      1.000000    999.000000      0.000000\n",
      "50%       38.000000    180.000000      2.000000    999.000000      0.000000\n",
      "75%       47.000000    319.000000      3.000000    999.000000      0.000000\n",
      "max       98.000000   4918.000000     56.000000    999.000000      7.000000\n"
     ]
    }
   ],
   "source": [
    "print(df_train.describe(include='number'))"
   ]
  },
  {
   "cell_type": "code",
   "execution_count": 19,
   "id": "51e0cf0b",
   "metadata": {},
   "outputs": [
    {
     "name": "stdout",
     "output_type": "stream",
     "text": [
      "<class 'pandas.core.series.Series'>\n",
      "RangeIndex: 32950 entries, 0 to 32949\n",
      "Series name: job\n",
      "Non-Null Count  Dtype \n",
      "--------------  ----- \n",
      "32950 non-null  object\n",
      "dtypes: object(1)\n",
      "memory usage: 257.6+ KB\n",
      "None\n"
     ]
    }
   ],
   "source": [
    "print(df_train['job'].info())"
   ]
  },
  {
   "cell_type": "code",
   "execution_count": 72,
   "id": "be5abf49",
   "metadata": {},
   "outputs": [
    {
     "name": "stdout",
     "output_type": "stream",
     "text": [
      "[49 37 78 36 59 29 26 30 50 33 44 32 43 56 40 47 34 46 39 41 55 38 63 23\n",
      " 48 53 35 51 71 58 21 45 25 77 28 52 80 57 22 60 27 24 31 42 54 81 64 79\n",
      " 20 76 82 19 68 65 73 66 85 74 61 86 69 18 83 88 70 87 84 75 62 72 67 89\n",
      " 17 91 98]\n"
     ]
    }
   ],
   "source": [
    "print(df_train['age'].unique())"
   ]
  },
  {
   "cell_type": "code",
   "execution_count": null,
   "id": "1c2d6170",
   "metadata": {},
   "outputs": [],
   "source": []
  },
  {
   "cell_type": "code",
   "execution_count": 6,
   "id": "5903f446",
   "metadata": {},
   "outputs": [],
   "source": [
    "X = df_train.drop('y', axis = 1)\n",
    "y = df_train['y']\n",
    "X_encoded = pd.get_dummies(X)\n"
   ]
  },
  {
   "cell_type": "code",
   "execution_count": 7,
   "id": "bcaae052",
   "metadata": {},
   "outputs": [
    {
     "name": "stdout",
     "output_type": "stream",
     "text": [
      "(26360,)\n"
     ]
    }
   ],
   "source": [
    "X_train, X_test, y_train, y_test = train_test_split(X_encoded, y, test_size=0.2, random_state=42)\n",
    "print(y_train.shape)\n"
   ]
  },
  {
   "cell_type": "code",
   "execution_count": 11,
   "id": "7a2746c7",
   "metadata": {},
   "outputs": [
    {
     "name": "stdout",
     "output_type": "stream",
     "text": [
      "{'RandomForestClassifier': RandomForestClassifier(random_state=42), 'LogisticRegression': LogisticRegression(max_iter=1000), 'DecisionTreeClassifier': DecisionTreeClassifier(random_state=42), 'SVC': SVC()}\n"
     ]
    }
   ],
   "source": [
    "models = {\n",
    "    \"RandomForestClassifier\" : RandomForestClassifier(random_state=42),\n",
    "    \"LogisticRegression\" : LogisticRegression(max_iter=1000),\n",
    "    \"DecisionTreeClassifier\" : DecisionTreeClassifier(random_state=42),\n",
    "    \"SVC\" : SVC() \n",
    "    }\n",
    "print(models)\n"
   ]
  },
  {
   "cell_type": "code",
   "execution_count": 12,
   "id": "b4b9fa94",
   "metadata": {},
   "outputs": [
    {
     "name": "stdout",
     "output_type": "stream",
     "text": [
      "Accuracy 0.9007587253414264\n",
      "Classification Report               precision    recall  f1-score   support\n",
      "\n",
      "          no       0.92      0.97      0.95      5798\n",
      "         yes       0.65      0.38      0.48       792\n",
      "\n",
      "    accuracy                           0.90      6590\n",
      "   macro avg       0.78      0.68      0.71      6590\n",
      "weighted avg       0.89      0.90      0.89      6590\n",
      "\n",
      "Confusion Matrix [[5636  162]\n",
      " [ 492  300]]\n"
     ]
    },
    {
     "name": "stderr",
     "output_type": "stream",
     "text": [
      "c:\\Users\\Rami Alrwais\\Desktop\\training\\jupyter\\env\\Lib\\site-packages\\sklearn\\linear_model\\_logistic.py:473: ConvergenceWarning: lbfgs failed to converge after 1000 iteration(s) (status=1):\n",
      "STOP: TOTAL NO. OF ITERATIONS REACHED LIMIT\n",
      "\n",
      "Increase the number of iterations to improve the convergence (max_iter=1000).\n",
      "You might also want to scale the data as shown in:\n",
      "    https://scikit-learn.org/stable/modules/preprocessing.html\n",
      "Please also refer to the documentation for alternative solver options:\n",
      "    https://scikit-learn.org/stable/modules/linear_model.html#logistic-regression\n",
      "  n_iter_i = _check_optimize_result(\n"
     ]
    },
    {
     "name": "stdout",
     "output_type": "stream",
     "text": [
      "Accuracy 0.9013657056145675\n",
      "Classification Report               precision    recall  f1-score   support\n",
      "\n",
      "          no       0.92      0.98      0.95      5798\n",
      "         yes       0.67      0.36      0.47       792\n",
      "\n",
      "    accuracy                           0.90      6590\n",
      "   macro avg       0.79      0.67      0.71      6590\n",
      "weighted avg       0.89      0.90      0.89      6590\n",
      "\n",
      "Confusion Matrix [[5655  143]\n",
      " [ 507  285]]\n",
      "Accuracy 0.8781487101669195\n",
      "Classification Report               precision    recall  f1-score   support\n",
      "\n",
      "          no       0.93      0.93      0.93      5798\n",
      "         yes       0.49      0.52      0.50       792\n",
      "\n",
      "    accuracy                           0.88      6590\n",
      "   macro avg       0.71      0.72      0.72      6590\n",
      "weighted avg       0.88      0.88      0.88      6590\n",
      "\n",
      "Confusion Matrix [[5379  419]\n",
      " [ 384  408]]\n",
      "Accuracy 0.8972685887708649\n",
      "Classification Report               precision    recall  f1-score   support\n",
      "\n",
      "          no       0.91      0.98      0.94      5798\n",
      "         yes       0.67      0.29      0.40       792\n",
      "\n",
      "    accuracy                           0.90      6590\n",
      "   macro avg       0.79      0.63      0.67      6590\n",
      "weighted avg       0.88      0.90      0.88      6590\n",
      "\n",
      "Confusion Matrix [[5684  114]\n",
      " [ 563  229]]\n"
     ]
    }
   ],
   "source": [
    "for name, model in models.items():\n",
    "    model.fit(X_train, y_train)\n",
    "    y_pred = model.predict(X_test)\n",
    "    print(\"Accuracy\", accuracy_score(y_test,y_pred))\n",
    "    print(\"Classification Report\", classification_report(y_test,y_pred))\n",
    "    print(\"Confusion Matrix\", confusion_matrix(y_test, y_pred))\n"
   ]
  },
  {
   "cell_type": "code",
   "execution_count": 56,
   "id": "327cf510",
   "metadata": {},
   "outputs": [
    {
     "name": "stdout",
     "output_type": "stream",
     "text": [
      "Accuracy 0.9007587253414264\n",
      "Classification Report               precision    recall  f1-score   support\n",
      "\n",
      "          no       0.92      0.97      0.95      5798\n",
      "         yes       0.65      0.38      0.48       792\n",
      "\n",
      "    accuracy                           0.90      6590\n",
      "   macro avg       0.78      0.68      0.71      6590\n",
      "weighted avg       0.89      0.90      0.89      6590\n",
      "\n",
      "Confusion Matrix [[5636  162]\n",
      " [ 492  300]]\n"
     ]
    }
   ],
   "source": [
    "print(\"Accuracy\", accuracy_score(y_test,y_pred))\n",
    "print(\"Classification Report\", classification_report(y_test,y_pred))\n",
    "print(\"Confusion Matrix\", confusion_matrix(y_test, y_pred))"
   ]
  }
 ],
 "metadata": {
  "kernelspec": {
   "display_name": "env (3.13.7)",
   "language": "python",
   "name": "python3"
  },
  "language_info": {
   "codemirror_mode": {
    "name": "ipython",
    "version": 3
   },
   "file_extension": ".py",
   "mimetype": "text/x-python",
   "name": "python",
   "nbconvert_exporter": "python",
   "pygments_lexer": "ipython3",
   "version": "3.13.7"
  }
 },
 "nbformat": 4,
 "nbformat_minor": 5
}
