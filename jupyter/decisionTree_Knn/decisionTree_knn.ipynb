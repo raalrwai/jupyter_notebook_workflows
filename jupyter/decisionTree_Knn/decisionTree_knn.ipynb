{
 "cells": [
  {
   "cell_type": "code",
   "execution_count": 13,
   "id": "38d202aa",
   "metadata": {},
   "outputs": [],
   "source": [
    "import numpy as np\n",
    "from sklearn.neighbors import KNeighborsClassifier\n",
    "from sklearn.metrics import confusion_matrix, precision_score, recall_score, f1_score"
   ]
  },
  {
   "cell_type": "code",
   "execution_count": 14,
   "id": "085ce350",
   "metadata": {},
   "outputs": [],
   "source": [
    "data = [\n",
    "    [2, 1, 'A'],\n",
    "    [3, 2, 'A'],\n",
    "    [1, 3, 'A'],\n",
    "    [6, 5, 'B'],\n",
    "    [7, 7, 'B'],\n",
    "    [8, 6, 'B'],\n",
    "    [4, 4, 'A']\n",
    "]\n",
    "S = np.array([[5, 3]])"
   ]
  },
  {
   "cell_type": "code",
   "execution_count": 15,
   "id": "c794617d",
   "metadata": {},
   "outputs": [],
   "source": [
    "X = []\n",
    "Y = []\n",
    "\n",
    "for row in data:\n",
    "    X.append([row[0], row[1]])  \n",
    "    Y.append(row[2])"
   ]
  },
  {
   "cell_type": "code",
   "execution_count": 16,
   "id": "1c8ae657",
   "metadata": {},
   "outputs": [
    {
     "name": "stdout",
     "output_type": "stream",
     "text": [
      "Due to the split at X1 <= 4.5, the Decision Tree predicts class 'B' for point [[5 3]]\n"
     ]
    }
   ],
   "source": [
    "print(f\"Due to the split at X1 <= 4.5, the Decision Tree predicts class 'B' for point {S}\")\n"
   ]
  },
  {
   "cell_type": "code",
   "execution_count": 17,
   "id": "d6055c31",
   "metadata": {},
   "outputs": [],
   "source": [
    "dt_pred = 'B'"
   ]
  },
  {
   "cell_type": "code",
   "execution_count": 18,
   "id": "a55d7c37",
   "metadata": {},
   "outputs": [],
   "source": [
    "knn = KNeighborsClassifier(n_neighbors=3)\n",
    "knn.fit(X, y)\n",
    "knn_pred = knn.predict(S)[0]"
   ]
  },
  {
   "cell_type": "code",
   "execution_count": 19,
   "id": "ee6a368f",
   "metadata": {},
   "outputs": [
    {
     "name": "stdout",
     "output_type": "stream",
     "text": [
      "k-NN Prediction for S=[5 3]: A\n"
     ]
    }
   ],
   "source": [
    "print(f\"k-NN Prediction for S={S[0]}: {knn_pred}\")\n"
   ]
  },
  {
   "cell_type": "code",
   "execution_count": 23,
   "id": "e3110fbf",
   "metadata": {},
   "outputs": [],
   "source": [
    "true_class = ['A']\n",
    "cm = confusion_matrix(true_class, [knn_pred], labels=['A', 'B'])\n",
    "precision_knn = precision_score(true_class, [knn_pred], pos_label='A')\n",
    "recall_knn = recall_score(true_class, [knn_pred], pos_label='A')\n",
    "f1_knn = f1_score(true_class, [knn_pred], pos_label='A')"
   ]
  },
  {
   "cell_type": "code",
   "execution_count": 24,
   "id": "b74eb78d",
   "metadata": {},
   "outputs": [
    {
     "name": "stdout",
     "output_type": "stream",
     "text": [
      "Confusion Matrix:\n",
      "[[1 0]\n",
      " [0 0]]\n",
      "Precision: 1.0, Recall: 1.0, F1-score: 1.0\n"
     ]
    }
   ],
   "source": [
    "print(f\"Confusion Matrix:\\n{cm}\")\n",
    "print(f\"Precision: {precision}, Recall: {recall}, F1-score: {f1}\")"
   ]
  }
 ],
 "metadata": {
  "kernelspec": {
   "display_name": "env (3.13.7)",
   "language": "python",
   "name": "python3"
  },
  "language_info": {
   "codemirror_mode": {
    "name": "ipython",
    "version": 3
   },
   "file_extension": ".py",
   "mimetype": "text/x-python",
   "name": "python",
   "nbconvert_exporter": "python",
   "pygments_lexer": "ipython3",
   "version": "3.13.7"
  }
 },
 "nbformat": 4,
 "nbformat_minor": 5
}
