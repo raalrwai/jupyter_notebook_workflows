{
 "cells": [
  {
   "cell_type": "code",
   "execution_count": 13,
   "id": "f86be6a7",
   "metadata": {},
   "outputs": [],
   "source": [
    "import pandas as pd       \n",
    "import seaborn as sns     \n",
    "import matplotlib.pyplot as plt"
   ]
  },
  {
   "cell_type": "code",
   "execution_count": 14,
   "id": "68deee3f",
   "metadata": {},
   "outputs": [],
   "source": [
    "tips = pd.read_csv('tips.csv')"
   ]
  },
  {
   "cell_type": "code",
   "execution_count": 15,
   "id": "7a9a0591",
   "metadata": {},
   "outputs": [
    {
     "name": "stdout",
     "output_type": "stream",
     "text": [
      "First 10 rows:\n",
      "   total_bill   tip     sex smoker  day    time  size\n",
      "0       16.99  1.01  Female     No  Sun  Dinner     2\n",
      "1       10.34  1.66    Male     No  Sun  Dinner     3\n",
      "2       21.01  3.50    Male     No  Sun  Dinner     3\n",
      "3       23.68  3.31    Male     No  Sun  Dinner     2\n",
      "4       24.59  3.61  Female     No  Sun  Dinner     4\n",
      "5       25.29  4.71    Male     No  Sun  Dinner     4\n",
      "6        8.77  2.00    Male     No  Sun  Dinner     2\n",
      "7       26.88  3.12    Male     No  Sun  Dinner     4\n",
      "8       15.04  1.96    Male     No  Sun  Dinner     2\n",
      "9       14.78  3.23    Male     No  Sun  Dinner     2\n"
     ]
    }
   ],
   "source": [
    "print(\"First 10 rows:\")\n",
    "print(tips.head(10)) "
   ]
  },
  {
   "cell_type": "code",
   "execution_count": 9,
   "id": "6f1b135e",
   "metadata": {},
   "outputs": [
    {
     "name": "stdout",
     "output_type": "stream",
     "text": [
      "Last 10 rows:\n",
      "     total_bill   tip     sex smoker   day    time  size\n",
      "234       15.53  3.00    Male    Yes   Sat  Dinner     2\n",
      "235       10.07  1.25    Male     No   Sat  Dinner     2\n",
      "236       12.60  1.00    Male    Yes   Sat  Dinner     2\n",
      "237       32.83  1.17    Male    Yes   Sat  Dinner     2\n",
      "238       35.83  4.67  Female     No   Sat  Dinner     3\n",
      "239       29.03  5.92    Male     No   Sat  Dinner     3\n",
      "240       27.18  2.00  Female    Yes   Sat  Dinner     2\n",
      "241       22.67  2.00    Male    Yes   Sat  Dinner     2\n",
      "242       17.82  1.75    Male     No   Sat  Dinner     2\n",
      "243       18.78  3.00  Female     No  Thur  Dinner     2\n"
     ]
    }
   ],
   "source": [
    "print(\"Last 10 rows:\")\n",
    "print(tips.tail(10))"
   ]
  },
  {
   "cell_type": "code",
   "execution_count": 10,
   "id": "7f092cd0",
   "metadata": {},
   "outputs": [
    {
     "name": "stdout",
     "output_type": "stream",
     "text": [
      "Shape of the dataset:\n",
      "(244, 7)\n"
     ]
    }
   ],
   "source": [
    "print(\"Shape of the dataset:\")\n",
    "print(tips.shape)"
   ]
  },
  {
   "cell_type": "code",
   "execution_count": 11,
   "id": "f30badc9",
   "metadata": {},
   "outputs": [
    {
     "name": "stdout",
     "output_type": "stream",
     "text": [
      "Data types of each column:\n",
      "total_bill    float64\n",
      "tip           float64\n",
      "sex            object\n",
      "smoker         object\n",
      "day            object\n",
      "time           object\n",
      "size            int64\n",
      "dtype: object\n"
     ]
    }
   ],
   "source": [
    "print(\"Data types of each column:\")\n",
    "print(tips.dtypes)"
   ]
  },
  {
   "cell_type": "code",
   "execution_count": 12,
   "id": "861474cb",
   "metadata": {},
   "outputs": [
    {
     "name": "stdout",
     "output_type": "stream",
     "text": [
      "Missing values in each column:\n",
      "total_bill    0\n",
      "tip           0\n",
      "sex           0\n",
      "smoker        0\n",
      "day           0\n",
      "time          0\n",
      "size          0\n",
      "dtype: int64\n"
     ]
    }
   ],
   "source": [
    "print(\"Missing values in each column:\")\n",
    "print(tips.isnull().sum())"
   ]
  },
  {
   "cell_type": "code",
   "execution_count": 13,
   "id": "35ab4ac1",
   "metadata": {},
   "outputs": [
    {
     "name": "stdout",
     "output_type": "stream",
     "text": [
      "Summary statistics for numerical columns:\n",
      "       total_bill         tip        size\n",
      "count  244.000000  244.000000  244.000000\n",
      "mean    19.785943    2.998279    2.569672\n",
      "std      8.902412    1.383638    0.951100\n",
      "min      3.070000    1.000000    1.000000\n",
      "25%     13.347500    2.000000    2.000000\n",
      "50%     17.795000    2.900000    2.000000\n",
      "75%     24.127500    3.562500    3.000000\n",
      "max     50.810000   10.000000    6.000000\n"
     ]
    }
   ],
   "source": [
    "print(\"Summary statistics for numerical columns:\")\n",
    "print(tips.describe())"
   ]
  },
  {
   "cell_type": "code",
   "execution_count": 14,
   "id": "a9adc2a3",
   "metadata": {},
   "outputs": [
    {
     "name": "stdout",
     "output_type": "stream",
     "text": [
      "Unique values in categorical columns:\n",
      "sex: ['Female' 'Male']\n",
      "smoker: ['No' 'Yes']\n",
      "day: ['Sun' 'Sat' 'Thur' 'Fri']\n",
      "time: ['Dinner' 'Lunch']\n"
     ]
    }
   ],
   "source": [
    "print(\"Unique values in categorical columns:\")\n",
    "print(\"sex:\", tips['sex'].unique())\n",
    "print(\"smoker:\", tips['smoker'].unique())\n",
    "print(\"day:\", tips['day'].unique())\n",
    "print(\"time:\", tips['time'].unique())"
   ]
  },
  {
   "cell_type": "code",
   "execution_count": 48,
   "id": "562fcaee",
   "metadata": {},
   "outputs": [
    {
     "name": "stdout",
     "output_type": "stream",
     "text": [
      "Frequency counts for categorical columns:\n",
      "sex:\n",
      " sex\n",
      "Male      157\n",
      "Female     87\n",
      "Name: count, dtype: int64\n",
      "smoker:\n",
      " smoker\n",
      "No     151\n",
      "Yes     93\n",
      "Name: count, dtype: int64\n",
      "day:\n",
      " day\n",
      "Sat     87\n",
      "Sun     76\n",
      "Thur    62\n",
      "Fri     19\n",
      "Name: count, dtype: int64\n",
      "time:\n",
      " time\n",
      "Dinner    176\n",
      "Lunch      68\n",
      "Name: count, dtype: int64\n"
     ]
    }
   ],
   "source": [
    "print(\"Frequency counts for categorical columns:\")\n",
    "print(\"sex:\\n\", tips['sex'].value_counts())\n",
    "print(\"smoker:\\n\", tips['smoker'].value_counts())\n",
    "print(\"day:\\n\", tips['day'].value_counts())\n",
    "print(\"time:\\n\", tips['time'].value_counts())"
   ]
  },
  {
   "cell_type": "code",
   "execution_count": 50,
   "id": "68b01abc",
   "metadata": {},
   "outputs": [
    {
     "name": "stdout",
     "output_type": "stream",
     "text": [
      "First 5 rows (categorical columns):\n",
      "      sex smoker  day    time\n",
      "0  Female     No  Sun  Dinner\n",
      "1    Male     No  Sun  Dinner\n",
      "2    Male     No  Sun  Dinner\n",
      "3    Male     No  Sun  Dinner\n",
      "4  Female     No  Sun  Dinner\n"
     ]
    }
   ],
   "source": [
    "print(\"First 5 rows (categorical columns):\")\n",
    "print(tips[['sex', 'smoker', 'day', 'time']].head())"
   ]
  },
  {
   "cell_type": "code",
   "execution_count": 51,
   "id": "4ddb077a",
   "metadata": {},
   "outputs": [
    {
     "name": "stdout",
     "output_type": "stream",
     "text": [
      "First 5 rows (numerical columns):\n",
      "   total_bill   tip  size\n",
      "0       16.99  1.01     2\n",
      "1       10.34  1.66     3\n",
      "2       21.01  3.50     3\n",
      "3       23.68  3.31     2\n",
      "4       24.59  3.61     4\n"
     ]
    }
   ],
   "source": [
    "print(\"First 5 rows (numerical columns):\")\n",
    "print(tips[['total_bill', 'tip', 'size']].head())"
   ]
  },
  {
   "cell_type": "code",
   "execution_count": 53,
   "id": "ed72df24",
   "metadata": {},
   "outputs": [
    {
     "name": "stdout",
     "output_type": "stream",
     "text": [
      "<bound method DataFrame.corr of      total_bill   tip     sex smoker   day    time  size\n",
      "0         16.99  1.01  Female     No   Sun  Dinner     2\n",
      "1         10.34  1.66    Male     No   Sun  Dinner     3\n",
      "2         21.01  3.50    Male     No   Sun  Dinner     3\n",
      "3         23.68  3.31    Male     No   Sun  Dinner     2\n",
      "4         24.59  3.61  Female     No   Sun  Dinner     4\n",
      "..          ...   ...     ...    ...   ...     ...   ...\n",
      "239       29.03  5.92    Male     No   Sat  Dinner     3\n",
      "240       27.18  2.00  Female    Yes   Sat  Dinner     2\n",
      "241       22.67  2.00    Male    Yes   Sat  Dinner     2\n",
      "242       17.82  1.75    Male     No   Sat  Dinner     2\n",
      "243       18.78  3.00  Female     No  Thur  Dinner     2\n",
      "\n",
      "[244 rows x 7 columns]>\n"
     ]
    }
   ],
   "source": [
    "print(tips.corr)"
   ]
  },
  {
   "cell_type": "code",
   "execution_count": 54,
   "id": "a9b1c4f5",
   "metadata": {},
   "outputs": [
    {
     "data": {
      "text/plain": [
       "<Axes: xlabel='sex', ylabel='count'>"
      ]
     },
     "execution_count": 54,
     "metadata": {},
     "output_type": "execute_result"
    },
    {
     "data": {
      "image/png": "[encoded data removed]",
      "text/plain": [
       "<Figure size 640x480 with 1 Axes>"
      ]
     },
     "metadata": {},
     "output_type": "display_data"
    }
   ],
   "source": [
    "sns.countplot(x='sex', data=tips)"
   ]
  },
  {
   "cell_type": "code",
   "execution_count": 55,
   "id": "1d76fa14",
   "metadata": {},
   "outputs": [
    {
     "data": {
      "text/plain": [
       "<Axes: xlabel='smoker', ylabel='count'>"
      ]
     },
     "execution_count": 55,
     "metadata": {},
     "output_type": "execute_result"
    },
    {
     "data": {
      "image/png": "[encoded data removed]",
      "text/plain": [
       "<Figure size 640x480 with 1 Axes>"
      ]
     },
     "metadata": {},
     "output_type": "display_data"
    }
   ],
   "source": [
    "sns.countplot(x='smoker', data=tips)"
   ]
  },
  {
   "cell_type": "code",
   "execution_count": 56,
   "id": "14e0de0c",
   "metadata": {},
   "outputs": [
    {
     "data": {
      "text/plain": [
       "<Axes: xlabel='day', ylabel='count'>"
      ]
     },
     "execution_count": 56,
     "metadata": {},
     "output_type": "execute_result"
    },
    {
     "data": {
      "image/png": "[encoded data removed]",
      "text/plain": [
       "<Figure size 640x480 with 1 Axes>"
      ]
     },
     "metadata": {},
     "output_type": "display_data"
    }
   ],
   "source": [
    "sns.countplot(x='day', data=tips)"
   ]
  },
  {
   "cell_type": "code",
   "execution_count": null,
   "id": "a29b3a5f",
   "metadata": {},
   "outputs": [
    {
     "data": {
      "image/png": "[encoded data removed]",
      "text/plain": [
       "<Figure size 640x480 with 1 Axes>"
      ]
     },
     "metadata": {},
     "output_type": "display_data"
    }
   ],
   "source": [
    "avg_tip_day = tips.groupby('day')['tip'].mean()  \n",
    "avg_tip_day.plot(kind='bar')\n",
    "plt.title('Average Tip by Day')\n",
    "plt.ylabel('Average Tip')\n",
    "plt.show()"
   ]
  },
  {
   "cell_type": "code",
   "execution_count": 22,
   "id": "4df604f5",
   "metadata": {},
   "outputs": [
    {
     "data": {
      "image/png": "[encoded data removed]",
      "text/plain": [
       "<Figure size 640x480 with 1 Axes>"
      ]
     },
     "metadata": {},
     "output_type": "display_data"
    }
   ],
   "source": [
    "smoker_day = tips.groupby(['day', 'smoker']).size().unstack()\n",
    "smoker_day.plot(kind='bar', stacked=True)\n",
    "plt.title('Smokers vs Non-Smokers per Day')\n",
    "plt.ylabel('Number of Customers')\n",
    "plt.show()"
   ]
  },
  {
   "cell_type": "code",
   "execution_count": 23,
   "id": "b25638a0",
   "metadata": {},
   "outputs": [
    {
     "data": {
      "image/png": "[encoded data removed]",
      "text/plain": [
       "<Figure size 640x480 with 1 Axes>"
      ]
     },
     "metadata": {},
     "output_type": "display_data"
    }
   ],
   "source": [
    "sns.violinplot(x='sex', y='tip', data=tips)\n",
    "plt.title('Distribution of Tips by Gender')\n",
    "plt.show()"
   ]
  },
  {
   "cell_type": "code",
   "execution_count": 32,
   "id": "d8ba13a2",
   "metadata": {},
   "outputs": [
    {
     "name": "stdout",
     "output_type": "stream",
     "text": [
      "Average tip by gender:\n",
      "sex\n",
      "Female    2.833448\n",
      "Male      3.089618\n",
      "Name: tip, dtype: float64\n",
      "On average, males tip more than females. The average tip from males is about 3.08, while for females it's 2.83.\n"
     ]
    }
   ],
   "source": [
    "print(\"Average tip by gender:\")\n",
    "print(tips.groupby('sex')['tip'].mean())\n",
    "print(\"On average, males tip more than females. The average tip from males is about 3.08, while for females it's 2.83.\")"
   ]
  },
  {
   "cell_type": "code",
   "execution_count": 33,
   "id": "cd8776e7",
   "metadata": {},
   "outputs": [
    {
     "name": "stdout",
     "output_type": "stream",
     "text": [
      "Customer count by day:\n",
      "day\n",
      "Sat     87\n",
      "Sun     76\n",
      "Thur    62\n",
      "Fri     19\n",
      "Name: count, dtype: int64\n",
      "Sunday has the highest number of customers, indicating it's the busiest day in the dataset.\n"
     ]
    }
   ],
   "source": [
    "print(\"Customer count by day:\")\n",
    "print(tips['day'].value_counts())\n",
    "print(\"Sunday has the highest number of customers, indicating it's the busiest day in the dataset.\")"
   ]
  },
  {
   "cell_type": "code",
   "execution_count": 34,
   "id": "2314036d",
   "metadata": {},
   "outputs": [
    {
     "name": "stdout",
     "output_type": "stream",
     "text": [
      "Smoker vs Non-smoker counts:\n",
      "smoker\n",
      "No     151\n",
      "Yes     93\n",
      "Name: count, dtype: int64\n",
      "There are more non-smokers than smokers visiting the restaurant.\n"
     ]
    }
   ],
   "source": [
    "print(\"Smoker vs Non-smoker counts:\")\n",
    "print(tips['smoker'].value_counts())\n",
    "print(\"There are more non-smokers than smokers visiting the restaurant.\")"
   ]
  },
  {
   "cell_type": "code",
   "execution_count": 35,
   "id": "8cd606b1",
   "metadata": {},
   "outputs": [
    {
     "name": "stdout",
     "output_type": "stream",
     "text": [
      "Smoker status per day:\n",
      "day   smoker\n",
      "Fri   No         4\n",
      "      Yes       15\n",
      "Sat   No        45\n",
      "      Yes       42\n",
      "Sun   No        57\n",
      "      Yes       19\n",
      "Thur  No        45\n",
      "      Yes       17\n",
      "dtype: int64\n",
      "Smokers and non-smokers both visit more on weekends, especially Sunday. However, non-smokers consistently outnumber smokers on all days in this dataset.\n"
     ]
    }
   ],
   "source": [
    "print(\"Smoker status per day:\")\n",
    "print(tips.groupby(['day', 'smoker']).size())\n",
    "print(\"Smokers and non-smokers both visit more on weekends, especially Sunday. However, non-smokers consistently outnumber smokers on all days in this dataset.\")"
   ]
  },
  {
   "cell_type": "code",
   "execution_count": 57,
   "id": "181e355d",
   "metadata": {},
   "outputs": [
    {
     "name": "stdout",
     "output_type": "stream",
     "text": [
      "Average party size by day:\n",
      "day\n",
      "Fri     2.105263\n",
      "Sat     2.517241\n",
      "Sun     2.842105\n",
      "Thur    2.451613\n",
      "Name: size, dtype: float64\n",
      "Party size tends to increase as the weekend approaches\n"
     ]
    }
   ],
   "source": [
    "print(\"Average party size by day:\")\n",
    "print(tips.groupby('day')['size'].mean())\n",
    "print(\"Party size tends to increase as the weekend approaches\")"
   ]
  }
 ],
 "metadata": {
  "kernelspec": {
   "display_name": "env (3.13.7)",
   "language": "python",
   "name": "python3"
  },
  "language_info": {
   "codemirror_mode": {
    "name": "ipython",
    "version": 3
   },
   "file_extension": ".py",
   "mimetype": "text/x-python",
   "name": "python",
   "nbconvert_exporter": "python",
   "pygments_lexer": "ipython3",
   "version": "3.13.7"
  }
 },
 "nbformat": 4,
 "nbformat_minor": 5
}
