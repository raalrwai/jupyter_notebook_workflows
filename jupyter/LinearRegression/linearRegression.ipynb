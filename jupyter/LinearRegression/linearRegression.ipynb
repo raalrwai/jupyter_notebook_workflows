{
 "cells": [
  {
   "cell_type": "code",
   "execution_count": 11,
   "id": "cb4cceda",
   "metadata": {},
   "outputs": [],
   "source": [
    "import csv"
   ]
  },
  {
   "cell_type": "code",
   "execution_count": 15,
   "id": "306c61b7",
   "metadata": {},
   "outputs": [],
   "source": [
    "X = []\n",
    "Y = []"
   ]
  },
  {
   "cell_type": "code",
   "execution_count": 9,
   "id": "2c393a7d",
   "metadata": {},
   "outputs": [],
   "source": [
    "X = train_df[\"Hours_Study\"]\n",
    "Y = train_df[\"Marks\"]"
   ]
  },
  {
   "cell_type": "code",
   "execution_count": null,
   "id": "9d928a32",
   "metadata": {},
   "outputs": [],
   "source": []
  }
 ],
 "metadata": {
  "kernelspec": {
   "display_name": ".venv (3.13.7)",
   "language": "python",
   "name": "python3"
  },
  "language_info": {
   "codemirror_mode": {
    "name": "ipython",
    "version": 3
   },
   "file_extension": ".py",
   "mimetype": "text/x-python",
   "name": "python",
   "nbconvert_exporter": "python",
   "pygments_lexer": "ipython3",
   "version": "3.13.7"
  }
 },
 "nbformat": 4,
 "nbformat_minor": 5
}
